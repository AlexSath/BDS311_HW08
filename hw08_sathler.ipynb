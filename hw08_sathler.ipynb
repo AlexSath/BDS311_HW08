{
 "cells": [
  {
   "cell_type": "markdown",
   "metadata": {},
   "source": [
    "# Homework 8: Linear regression and least-squares optimization\n",
    "# 60 pts, Due Thursday May 27 at 11:59pm "
   ]
  },
  {
   "cell_type": "markdown",
   "metadata": {},
   "source": [
    "# **Helpful Resources:**# \n",
    "\n",
    "- [Getting help on a Jupyter Notebook](https://problemsolvingwithpython.com/02-Jupyter-Notebooks/02.07-Getting-Help-in-a-Jupyter-Notebook/)\n",
    "\n",
    "- [Python Examples](https://nbviewer.jupyter.org/urls/bitbucket.org/hrojas/learn-pandas/raw/master/lessons/Python_101.ipynb): A reference for distinct Python commands (worth returning to throughout this course)\n",
    "\n",
    "\n"
   ]
  },
  {
   "cell_type": "markdown",
   "metadata": {},
   "source": [
    "## *This week's* homework groups. \n",
    "\n",
    "Homework groups this week are:\n",
    "```\n",
    "[Kei Anton] [Michael Skyler Riely] [Sophie Alex]\n",
    "\n",
    "```\n",
    "\n",
    "You will need to work collaboratively with your group."
   ]
  },
  {
   "cell_type": "markdown",
   "metadata": {},
   "source": [
    "### Question 0: Setup. \n",
    "This week I would like one member of the group, who will be owner of the shared repository, to make a `pten` folder inside this hw08 folder and initialize it as a Git repository. This folder should have (1) `regression_fxns.py` ,(2)`pten.csv`, and (3) a distinct version of `hw08_<last name>.ipynb`, saved with a user-specific name (e.g. `hw08_warren.ipynb`)\n",
    "\n",
    "The owner should invite other members as collaborators via Github. The shared Git repository will have *.ipynb* files for each user but one `regression_fxns.py` file that is called by each of the user-specific, Jupyter notebook files.\n",
    "\n",
    "As described below, `regression_fxns.py`, when completed, will contain three functions: <br>\n",
    "`make_standard_units`<br>\n",
    "`calc_corrcoef_from_standardized_input`<br>\n",
    "`get_regression_parameters`<br>\n",
    "\n",
    "\n",
    "\n"
   ]
  },
  {
   "cell_type": "code",
   "execution_count": 1,
   "metadata": {},
   "outputs": [],
   "source": [
    "import pandas as pd\n",
    "import matplotlib.pyplot as plt\n",
    "import numpy as np"
   ]
  },
  {
   "cell_type": "markdown",
   "metadata": {},
   "source": [
    "### Question 1:\n",
    "This week you will examine data from the Cancer Cell Line Encyclopedia -- discussed in this [paper](https://www.nature.com/articles/s41586-019-1186-3). You can examine data at this online portal [here](https://portals.broadinstitute.org/ccle).\n",
    "\n",
    "The file `pten.csv` contains expression data in ~1000 cell lines for the PTEN gene. This gene suppresses tumors; mutations in the gene are associated with many types of cancer. A cell line is group of cells that are kept alive and replicate indefinitely in culture.\n",
    "\n",
    "`pten.csv` contains four columns:`Cell Line` (the cell line type), `Copy Number` (technically the log-2 copy ratio. A value of 0 corresponds to no variation in copy number from reference; negative values are decreases in copy number, whereas positive values are increases), `mRNA Expression (Affy)` (mRNA expression measured by Affymetrix microarrays), and `mRNA Expression (RNAseq)` (mRNA expression measured by RNAseq).\n",
    "\n",
    "For purposes of exploratory visualization, load the data into Pandas and make three scatter plots, where each point in plot reflects paired data for a specific cell line: <br>For first scatter plot, put copy number on horizontal axis, Affy mRNA data on vertical axis. <br>For second, Copy number on horizontal axis, RNAseq expresssion data on vertical axis. <br> For third, Affy mRNA data on horizontal axis and RNAseq mRNA on vertical axis) <br>\n",
    "**Make sure you label your axes to distinguish plots.**\n",
    "## Answer 1:"
   ]
  },
  {
   "cell_type": "code",
   "execution_count": 3,
   "metadata": {},
   "outputs": [
    {
     "data": {
      "text/html": [
       "<div>\n",
       "<style scoped>\n",
       "    .dataframe tbody tr th:only-of-type {\n",
       "        vertical-align: middle;\n",
       "    }\n",
       "\n",
       "    .dataframe tbody tr th {\n",
       "        vertical-align: top;\n",
       "    }\n",
       "\n",
       "    .dataframe thead th {\n",
       "        text-align: right;\n",
       "    }\n",
       "</style>\n",
       "<table border=\"1\" class=\"dataframe\">\n",
       "  <thead>\n",
       "    <tr style=\"text-align: right;\">\n",
       "      <th></th>\n",
       "      <th>Cell Line</th>\n",
       "      <th>Copy Number</th>\n",
       "      <th>mRNA Expression (Affy)</th>\n",
       "      <th>mRNA Expression (RNAseq)</th>\n",
       "    </tr>\n",
       "  </thead>\n",
       "  <tbody>\n",
       "    <tr>\n",
       "      <th>0</th>\n",
       "      <td>DMS53_LUNG</td>\n",
       "      <td>0.1728</td>\n",
       "      <td>7.482898</td>\n",
       "      <td>2.489797</td>\n",
       "    </tr>\n",
       "    <tr>\n",
       "      <th>1</th>\n",
       "      <td>SW1116_LARGE_INTESTINE</td>\n",
       "      <td>0.1910</td>\n",
       "      <td>8.154946</td>\n",
       "      <td>2.868566</td>\n",
       "    </tr>\n",
       "    <tr>\n",
       "      <th>2</th>\n",
       "      <td>NCIH1694_LUNG</td>\n",
       "      <td>-0.2372</td>\n",
       "      <td>7.993083</td>\n",
       "      <td>2.821475</td>\n",
       "    </tr>\n",
       "    <tr>\n",
       "      <th>3</th>\n",
       "      <td>P3HR1_HAEMATOPOIETIC_AND_LYMPHOID_TISSUE</td>\n",
       "      <td>-0.0129</td>\n",
       "      <td>9.963575</td>\n",
       "      <td>4.657019</td>\n",
       "    </tr>\n",
       "    <tr>\n",
       "      <th>4</th>\n",
       "      <td>HUT78_HAEMATOPOIETIC_AND_LYMPHOID_TISSUE</td>\n",
       "      <td>-1.1013</td>\n",
       "      <td>8.741163</td>\n",
       "      <td>2.752360</td>\n",
       "    </tr>\n",
       "  </tbody>\n",
       "</table>\n",
       "</div>"
      ],
      "text/plain": [
       "                                  Cell Line  Copy Number  \\\n",
       "0                                DMS53_LUNG       0.1728   \n",
       "1                    SW1116_LARGE_INTESTINE       0.1910   \n",
       "2                             NCIH1694_LUNG      -0.2372   \n",
       "3  P3HR1_HAEMATOPOIETIC_AND_LYMPHOID_TISSUE      -0.0129   \n",
       "4  HUT78_HAEMATOPOIETIC_AND_LYMPHOID_TISSUE      -1.1013   \n",
       "\n",
       "   mRNA Expression (Affy)  mRNA Expression (RNAseq)  \n",
       "0                7.482898                  2.489797  \n",
       "1                8.154946                  2.868566  \n",
       "2                7.993083                  2.821475  \n",
       "3                9.963575                  4.657019  \n",
       "4                8.741163                  2.752360  "
      ]
     },
     "execution_count": 3,
     "metadata": {},
     "output_type": "execute_result"
    }
   ],
   "source": [
    "#Code for Answer 1\n",
    "pten = pd.read_csv(\"pten.csv\")\n",
    "pten.head()"
   ]
  },
  {
   "cell_type": "code",
   "execution_count": 9,
   "metadata": {},
   "outputs": [
    {
     "data": {
      "text/plain": [
       "Text(0.5, 1.0, 'Tumor Cell Line Allelic Copy Numbers vs. mRNA Expression')"
      ]
     },
     "execution_count": 9,
     "metadata": {},
     "output_type": "execute_result"
    },
    {
     "data": {
      "image/png": "[encoded data removed]",
      "text/plain": [
       "<Figure size 432x288 with 1 Axes>"
      ]
     },
     "metadata": {
      "needs_background": "light"
     },
     "output_type": "display_data"
    }
   ],
   "source": [
    "#Plot 1\n",
    "plt.scatter(pten['Copy Number'], pten['mRNA Expression (Affy)'])\n",
    "plt.xlabel('Log2 of Copy Ratio Relative to Reference')\n",
    "plt.ylabel('mRNA Expr by Affymetrix Microarray')\n",
    "plt.title('Tumor Cell Line Allelic Copy Numbers vs. mRNA Expression')"
   ]
  },
  {
   "cell_type": "code",
   "execution_count": 10,
   "metadata": {},
   "outputs": [
    {
     "data": {
      "text/plain": [
       "Text(0.5, 1.0, 'Tumor Cell Line Allelic Copy Numbers vs. mRNA Expression')"
      ]
     },
     "execution_count": 10,
     "metadata": {},
     "output_type": "execute_result"
    },
    {
     "data": {
      "image/png": "[encoded data removed]",
      "text/plain": [
       "<Figure size 432x288 with 1 Axes>"
      ]
     },
     "metadata": {
      "needs_background": "light"
     },
     "output_type": "display_data"
    }
   ],
   "source": [
    "plt.scatter(pten['Copy Number'], pten['mRNA Expression (RNAseq)'])\n",
    "plt.xlabel('Log2 of Copy Ratio Relative to Reference')\n",
    "plt.ylabel('mRNA Expr by RNASeq')\n",
    "plt.title('Tumor Cell Line Allelic Copy Numbers vs. mRNA Expression')"
   ]
  },
  {
   "cell_type": "code",
   "execution_count": 11,
   "metadata": {},
   "outputs": [
    {
     "data": {
      "text/plain": [
       "Text(0.5, 1.0, 'Comparison of RNA Expression Evaluation Techniques')"
      ]
     },
     "execution_count": 11,
     "metadata": {},
     "output_type": "execute_result"
    },
    {
     "data": {
      "image/png": "[encoded data removed]",
      "text/plain": [
       "<Figure size 432x288 with 1 Axes>"
      ]
     },
     "metadata": {
      "needs_background": "light"
     },
     "output_type": "display_data"
    }
   ],
   "source": [
    "plt.scatter(pten['mRNA Expression (Affy)'], pten['mRNA Expression (RNAseq)'])\n",
    "plt.xlabel('mRNA Expr by Affymetrix Microarray')\n",
    "plt.ylabel('mRNA Expr by RNASeq')\n",
    "plt.title('Comparison of RNA Expression Evaluation Techniques')"
   ]
  },
  {
   "cell_type": "markdown",
   "metadata": {},
   "source": [
    "### Question 2: \n",
    "In class we reviewed a method for manually calculating correlation coefficient by first converting data to *standard units*, where the mean of the data is 0, and the standard deviation is 1. \n",
    "\n",
    "In `regression_fxns.py`, write `make_standard_units` function, which will take a data array as input and return a data array of the same size in standard units.  If your collaborator has already written a working version of this function, review it and add a comment.\n",
    "\n",
    "Call this function to create three numpy arrays of standardized data: `copy_su`, `affy_ru`, `rseq_su`, corresponding to the data plotted in above scatter plots.\n",
    "\n",
    "Remake the scatter plots below with the standardized data.\n",
    "\n",
    "### Answer 2:\n",
    "\n",
    "\n"
   ]
  },
  {
   "cell_type": "code",
   "execution_count": 10,
   "metadata": {},
   "outputs": [],
   "source": [
    "#Answer 2:\n",
    "#Create arrays of standardized data and remake scatter plots\n"
   ]
  },
  {
   "cell_type": "markdown",
   "metadata": {},
   "source": []
  },
  {
   "cell_type": "markdown",
   "metadata": {},
   "source": [
    "### Question 3: \n",
    "In class, we learned that when paired data are in standard units, Pearson's correlation coefficient, which gives the slope of the best fit line, can be calculated as the mean of the point-by-point product of the data.\n",
    "In `regression_fxns.py`, write `calc_corrcoef_from_standardized_input` function that takes in two data arrays in standard units and returns Pearson's correlation coefficient.\n",
    "## Answer 3:\n",
    "Work or comment on `regression_fxns.py`\n"
   ]
  },
  {
   "cell_type": "code",
   "execution_count": null,
   "metadata": {},
   "outputs": [],
   "source": []
  },
  {
   "cell_type": "markdown",
   "metadata": {},
   "source": [
    "### Question 4: \n",
    "Let's look more closely at the relationship between Affymetrix mRNA expression (`mRNA Expression (Affy)`) and RNAseq mRNA expression (`mRNA Expression (RNAseq)`). Write a function in`regression_fxns.py` called `get_regression_parameters` that returns parameters of the regression line as a two item array with slope and intercept as first and second elements respectively. `get_regression_parameters` should call `make_standard_units` and `calc_corrcoef_from_standardized_input` functions.<br><br>\n",
    "Remember that the slope of the regression line is `correlation_coefficient * (sd(y)/sd(x))`.\n",
    "The intercept can be calculated from the equation of a line using the mean of the data and the slopes `meany = slope * meanx + intercept`\n",
    "\n",
    "In cell below, use this function to calculate slope and intercept of regression line for original scatter plot in which Affymetrix mRNA expression is on horizontal axis and RNAseq data on vertical axis. Remake this scatter plot and overlay the regression line.\n",
    "Print out slope and intercept.\n",
    "\n",
    "### Answer 4\n"
   ]
  },
  {
   "cell_type": "code",
   "execution_count": 11,
   "metadata": {},
   "outputs": [],
   "source": [
    "# Answer 4"
   ]
  },
  {
   "cell_type": "markdown",
   "metadata": {},
   "source": [
    "### Question 5: \n",
    "\n",
    "The oldest and most commonly used cell line in Biology is the HeLa cell line, named after Henrietta Lacks, whose cervical cancer cells were taken in 1951 without her consent. The [Immortal Life of Henrietta Lacks](https://en.wikipedia.org/wiki/The_Immortal_Life_of_Henrietta_Lacks) was a 2011 book about this. There is also information about this story at this [Johns Hopkins University site](https://www.hopkinsmedicine.org/henriettalacks/). \n",
    "\n",
    "The HeLa cell line is missing from our dataset. If we know that the HeLa Affymetrix mRNA Expression  value is 8.2, what is the predicted RNAseq value for this cell line using regression parameters calculated above. Remake scatter plot of original data, adding a marker with different color for predicted HeLA value.\n",
    "### Answer  5: "
   ]
  },
  {
   "cell_type": "code",
   "execution_count": 3,
   "metadata": {},
   "outputs": [],
   "source": [
    "# Your calculation and plot for Answer 5"
   ]
  },
  {
   "cell_type": "markdown",
   "metadata": {},
   "source": [
    "\n"
   ]
  },
  {
   "cell_type": "markdown",
   "metadata": {},
   "source": [
    "### Question 6: \n",
    "Use a bootstrap approach to estimate a 95% confidence interval for the HeLA predicted RNAseq value. You should resample the observed paired data `mRNA Expression (Affy)` and `mRNA Expression (RNAseq)` with replacement (e.g. 1000 times). Each time calculate a regreession and generate a HeLa prediction value.\n",
    "\n",
    "Plot the distribution of all predicted HeLA RNAseq values as a histogram as well your 95% confidence interval. Print your 95% confidence interval.<br>\n",
    "*Hint:* Remember that the bootstrap should preserve specific x,y pairs but resample with replacement which pairs are used for making the regression.\n",
    "\n",
    "### Answer 6:"
   ]
  },
  {
   "cell_type": "code",
   "execution_count": null,
   "metadata": {},
   "outputs": [],
   "source": []
  },
  {
   "cell_type": "markdown",
   "metadata": {},
   "source": [
    "## Calculating regression parameters using least-squares optimization\n",
    "### Question 7a:\n",
    "\n",
    "As we discussed in class, a general way to fit models (not just lines) to data is to use least-squares optimization. To practice this, we will determine the best fitting line using least squares optimization.\n",
    "\n",
    "In cell below, define a function called `calc_RMSE_aff_rnaseq` which calculates the root mean square error of the paired affy, rnaseq data relative to a linear model\n",
    "### Answer 7a:"
   ]
  },
  {
   "cell_type": "code",
   "execution_count": 4,
   "metadata": {},
   "outputs": [],
   "source": [
    "import numpy as np\n",
    "def calc_RMSE_aff_rnaseq(line_parameters):\n",
    "    '''INPUT: array line_parameters, where line_parameters[0] is slope and line_parameters[1] is intercept\n",
    "       OUTPUT: calculated_RMSE, a number.\n",
    "       Note that the observed raw affymetrix data and RNAseq data should be referenced in this function\n",
    "    '''\n",
    "    ...\n",
    "#test for a flat line with intercept of 0, where RMSE should be sum of squares of y-data   \n",
    "line_parameters=np.array([0,0])\n",
    "RMSE_test=calc_RMSE_aff_rnaseq(line_parameters)"
   ]
  },
  {
   "cell_type": "markdown",
   "metadata": {},
   "source": [
    "### Question 7b: Optimization\n",
    "Python has excellent tools to perform automated optimization, which is central to machine learning.\n",
    "Use the `scipy.optimize.minimize` function to determine which line parameters obtain a minimum value of RMSE\n",
    "\n",
    "Note that this [minimize function](https://docs.scipy.org/doc/scipy/reference/generated/scipy.optimize.minimize.html) requires at least two inputs: The Objective function to be minimized, which will be your `calc_RMSE_aff_rnaseq` function as well as an input array, which is initial guess at the input_parameters to objective function.\n",
    "\n",
    "Note that the slope and intercept of optimized fit should closely match the regression line calculated earlier. If not, this indicates a problem with at least one of the two analyses."
   ]
  },
  {
   "cell_type": "code",
   "execution_count": 5,
   "metadata": {},
   "outputs": [],
   "source": [
    "#Answer 7b\n",
    "\n",
    "\n",
    "calculated_slope=...\n",
    "calculated_intercept=..."
   ]
  },
  {
   "cell_type": "markdown",
   "metadata": {},
   "source": [
    "## Question 8: Setting up Python and Git on your personal computers. \n",
    "If you don't have Python on your own computer, please try to install it this week and let me know if you run into issues. The [Anaconda Individual Edition](https://www.anaconda.com/products/individual) is a great distribution, which includes Jupyter Notebook as well as many Python packages we have used.  Also try to set up Git application on your personal computer. Installing [GitHub Desktop](https://desktop.github.com/) will install latest version of Git if you don't have it on your personal machine.\n",
    "\n"
   ]
  },
  {
   "cell_type": "code",
   "execution_count": null,
   "metadata": {},
   "outputs": [],
   "source": []
  }
 ],
 "metadata": {
  "kernelspec": {
   "display_name": "Python 3",
   "language": "python",
   "name": "python3"
  },
  "language_info": {
   "codemirror_mode": {
    "name": "ipython",
    "version": 3
   },
   "file_extension": ".py",
   "mimetype": "text/x-python",
   "name": "python",
   "nbconvert_exporter": "python",
   "pygments_lexer": "ipython3",
   "version": "3.7.9"
  }
 },
 "nbformat": 4,
 "nbformat_minor": 4
}
